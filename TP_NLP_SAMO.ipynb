{
  "cells": [
    {
      "cell_type": "markdown",
      "source": [
        "**SAMO KAMGA Marius Bartel**<br>\n",
        "**Ahmed Khalife**"
      ],
      "metadata": {
        "id": "gDQHo31aa1ze"
      }
    },
    {
      "cell_type": "markdown",
      "metadata": {
        "id": "JfkpXKBIthcS"
      },
      "source": [
        "# Text classification with Pytorch\n",
        "\n",
        "The goal of this TP is double: an introduction to using Pytorch for treating textual data, and implementing neural classification models that we can apply to IMDB data - and then compare to models implemented in the previous TPs. "
      ]
    },
    {
      "cell_type": "code",
      "execution_count": 1,
      "metadata": {
        "id": "FH7c_eMyte-D",
        "colab": {
          "base_uri": "https://localhost:8080/"
        },
        "outputId": "b1f237dd-f733-44cb-945b-1d4c405717f8"
      },
      "outputs": [
        {
          "output_type": "stream",
          "name": "stdout",
          "text": [
            "Looking in indexes: https://pypi.org/simple, https://us-python.pkg.dev/colab-wheels/public/simple/\n",
            "Requirement already satisfied: gensim==4.0.1 in /usr/local/lib/python3.7/dist-packages (4.0.1)\n",
            "Requirement already satisfied: numpy>=1.11.3 in /usr/local/lib/python3.7/dist-packages (from gensim==4.0.1) (1.21.6)\n",
            "Requirement already satisfied: scipy>=0.18.1 in /usr/local/lib/python3.7/dist-packages (from gensim==4.0.1) (1.7.3)\n",
            "Requirement already satisfied: smart-open>=1.8.1 in /usr/local/lib/python3.7/dist-packages (from gensim==4.0.1) (5.2.1)\n"
          ]
        }
      ],
      "source": [
        "import torch\n",
        "import torch.nn as nn\n",
        "!pip install gensim==4.0.1"
      ]
    },
    {
      "cell_type": "markdown",
      "metadata": {
        "id": "TG1Tv5TLtpjP"
      },
      "source": [
        "## 1 - A (very small) introduction to pytorch\n",
        "\n",
        "Pytorch Tensors are very similar to Numpy arrays, with the added benefit of being usable on GPU. For a short tutorial on various methods to create tensors of particular types, see [this link](https://pytorch.org/tutorials/beginner/blitz/tensor_tutorial.html#sphx-glr-beginner-blitz-tensor-tutorial-py).\n",
        "The important things to note are that Tensors can be created empty, from lists, and it is very easy to convert a numpy array into a pytorch tensor, and inversely."
      ]
    },
    {
      "cell_type": "code",
      "execution_count": 2,
      "metadata": {
        "colab": {
          "base_uri": "https://localhost:8080/"
        },
        "id": "Mb3h3-OEtuHz",
        "outputId": "16569820-81b6-45ee-ec40-93a8819a4b8c"
      },
      "outputs": [
        {
          "output_type": "stream",
          "name": "stdout",
          "text": [
            "tensor([           99618880,                  27,          4294967295,\n",
            "        4908972153413002606, 7214836307739637349])\n",
            "tensor([[5, 4],\n",
            "        [1, 2]])\n"
          ]
        }
      ],
      "source": [
        "a = torch.LongTensor(5)\n",
        "b = torch.LongTensor([[5,4], [1,2]])\n",
        "\n",
        "print(a)\n",
        "print(b)"
      ]
    },
    {
      "cell_type": "code",
      "execution_count": 3,
      "metadata": {
        "colab": {
          "base_uri": "https://localhost:8080/"
        },
        "id": "EohavgcYtv6f",
        "outputId": "34744702-d6aa-4988-d860-5b61c4ed06a4"
      },
      "outputs": [
        {
          "output_type": "stream",
          "name": "stdout",
          "text": [
            "tensor([5.])\n"
          ]
        }
      ],
      "source": [
        "a = torch.FloatTensor([2])\n",
        "b = torch.FloatTensor([3])\n",
        "\n",
        "print(a + b)"
      ]
    },
    {
      "cell_type": "markdown",
      "metadata": {
        "id": "AJ7gaHMpt0fV"
      },
      "source": [
        "The main interest in us using Pytorch is the ```autograd``` package. ```torch.Tensor```objects have an attribute ```.requires_grad```; if set as True, it starts to track all operations on it. When you finish your computation, can call ```.backward()``` and all the gradients are computed automatically (and stored in the ```.grad``` attribute).\n",
        "\n",
        "One way to easily cut a tensor from the computational once it is not needed anymore is to use ```.detach()```.\n",
        "More info on automatic differentiation in pytorch on [this link](https://pytorch.org/tutorials/beginner/blitz/autograd_tutorial.html#sphx-glr-beginner-blitz-autograd-tutorial-py).\n"
      ]
    },
    {
      "cell_type": "code",
      "execution_count": 4,
      "metadata": {
        "colab": {
          "base_uri": "https://localhost:8080/"
        },
        "id": "DGHcybvEty-E",
        "outputId": "f88dc0ee-a987-44a1-d870-28246fa8275a"
      },
      "outputs": [
        {
          "output_type": "stream",
          "name": "stdout",
          "text": [
            "tensor(2.)\n",
            "tensor(1.)\n",
            "tensor(1.)\n"
          ]
        }
      ],
      "source": [
        "x = torch.tensor(1., requires_grad=True)\n",
        "w = torch.tensor(2., requires_grad=True)\n",
        "b = torch.tensor(3., requires_grad=True)\n",
        "\n",
        "# Build a computational graph.\n",
        "y = w * x + b    # y = 2 * x + 3\n",
        "\n",
        "# Compute gradients.\n",
        "y.backward()\n",
        "\n",
        "# Print out the gradients.\n",
        "print(x.grad)    # x.grad = 2 \n",
        "print(w.grad)    # w.grad = 1 \n",
        "print(b.grad)    # b.grad = 1 "
      ]
    },
    {
      "cell_type": "code",
      "execution_count": 5,
      "metadata": {
        "colab": {
          "base_uri": "https://localhost:8080/"
        },
        "id": "6b2WNPUetzA-",
        "outputId": "d6fd0023-a18d-4371-f7fa-2eda1ae9b170"
      },
      "outputs": [
        {
          "output_type": "stream",
          "name": "stdout",
          "text": [
            "weight\n",
            "Parameter containing:\n",
            "tensor([[-0.2497, -0.1158,  0.0707],\n",
            "        [-0.3768, -0.4901,  0.1065]], requires_grad=True)\n",
            "bias\n",
            "Parameter containing:\n",
            "tensor([-0.2282,  0.3887], requires_grad=True)\n",
            "Initial loss:  1.4885021448135376\n",
            "dL/dw:  tensor([[-0.1105, -0.0522, -0.3500],\n",
            "        [-0.2504, -0.0483, -0.6176]])\n",
            "dL/db:  tensor([0.0785, 0.6291])\n"
          ]
        }
      ],
      "source": [
        "x = torch.randn(10, 3)\n",
        "y = torch.randn(10, 2)\n",
        "\n",
        "# Build a fully connected layer.\n",
        "linear = nn.Linear(3, 2)\n",
        "for name, p in linear.named_parameters():\n",
        "    print(name)\n",
        "    print(p)\n",
        "\n",
        "# Build loss function - Mean Square Error\n",
        "criterion = nn.MSELoss()\n",
        "\n",
        "# Forward pass.\n",
        "pred = linear(x)\n",
        "\n",
        "# Compute loss.\n",
        "loss = criterion(pred, y)\n",
        "print('Initial loss: ', loss.item())\n",
        "\n",
        "# Backward pass.\n",
        "loss.backward()\n",
        "\n",
        "# Print out the gradients.\n",
        "print ('dL/dw: ', linear.weight.grad) \n",
        "print ('dL/db: ', linear.bias.grad)"
      ]
    },
    {
      "cell_type": "code",
      "execution_count": 6,
      "metadata": {
        "colab": {
          "base_uri": "https://localhost:8080/"
        },
        "id": "aCZynIQFtzD0",
        "outputId": "128036b9-227d-4ca6-94be-d97409fc3a70"
      },
      "outputs": [
        {
          "output_type": "stream",
          "name": "stdout",
          "text": [
            "Loss after one update:  1.478697419166565\n"
          ]
        }
      ],
      "source": [
        "# You can perform gradient descent manually, with an in-place update ...\n",
        "linear.weight.data.sub_(0.01 * linear.weight.grad.data)\n",
        "linear.bias.data.sub_(0.01 * linear.bias.grad.data)\n",
        "\n",
        "# Print out the loss after 1-step gradient descent.\n",
        "pred = linear(x)\n",
        "loss = criterion(pred, y)\n",
        "print('Loss after one update: ', loss.item())"
      ]
    },
    {
      "cell_type": "code",
      "execution_count": 7,
      "metadata": {
        "colab": {
          "base_uri": "https://localhost:8080/"
        },
        "id": "RXaI-9Z9tzGt",
        "outputId": "ff8a7d42-135d-42d7-9ef9-0789670105de"
      },
      "outputs": [
        {
          "output_type": "stream",
          "name": "stdout",
          "text": [
            "Loss after two updates:  1.4691013097763062\n"
          ]
        }
      ],
      "source": [
        "# Use the optim package to define an Optimizer that will update the weights of the model.\n",
        "optimizer = torch.optim.SGD(linear.parameters(), lr=0.01)\n",
        "\n",
        "# By default, gradients are accumulated in buffers( i.e, not overwritten) whenever .backward()\n",
        "# is called. Before the backward pass, we need to use the optimizer object to zero all of the\n",
        "# gradients.\n",
        "optimizer.zero_grad()\n",
        "loss.backward()\n",
        "\n",
        "# Calling the step function on an Optimizer makes an update to its parameters\n",
        "optimizer.step()\n",
        "\n",
        "# Print out the loss after the second step of gradient descent.\n",
        "pred = linear(x)\n",
        "loss = criterion(pred, y)\n",
        "print('Loss after two updates: ', loss.item())"
      ]
    },
    {
      "cell_type": "markdown",
      "metadata": {
        "id": "xjcyC09ct9Nn"
      },
      "source": [
        "## 2 - Tools for data processing \n",
        "\n",
        "```torch.utils.data.Dataset``` is an abstract class representing a dataset. Your custom dataset should inherit ```Dataset``` and override the following methods:\n",
        "- ```__len__``` so that ```len(dataset)``` returns the size of the dataset.\n",
        "- ```__getitem__``` to support the indexing such that ```dataset[i]``` can be used to get the i-th sample\n",
        "\n",
        "Here is a toy example: "
      ]
    },
    {
      "cell_type": "code",
      "execution_count": 8,
      "metadata": {
        "id": "OAZi4yvpuAyG"
      },
      "outputs": [],
      "source": [
        "toy_corpus = ['I walked down down the boulevard',\n",
        "              'I walked down the avenue',\n",
        "              'I ran down the boulevard',\n",
        "              'I walk down the city',\n",
        "              'I walk down the the avenue']\n",
        "\n",
        "toy_categories = [0, 0, 1, 0, 0]"
      ]
    },
    {
      "cell_type": "code",
      "execution_count": 14,
      "metadata": {
        "id": "I0s6D6VOuCNc"
      },
      "outputs": [],
      "source": [
        "from torch.utils.data import Dataset, DataLoader\n",
        "\n",
        "class CustomDataset(Dataset):\n",
        "    # A pytorch dataset class for holding data for a text classification task.\n",
        "    def __init__(self, data, categories):\n",
        "        # Upon creating the Dataset object, store the data in an attribute\n",
        "        # Split the text data and labels from each other\n",
        "        self.X, self.Y = [], []\n",
        "        for x, y in zip(data, categories):\n",
        "            # We will propably need to preprocess the data - have it done in a separate method\n",
        "            # We do it here because we might need corpus-wide info to do the preprocessing \n",
        "            # For example, cutting all examples to the same length\n",
        "            self.X.append(self.preprocess(x))\n",
        "            self.Y.append(y)\n",
        "                \n",
        "    # Method allowing you to preprocess data                      \n",
        "    def preprocess(self, text):\n",
        "        text_pp = text.lower().strip()\n",
        "        return text_pp\n",
        "    \n",
        "    # Overriding the method __len__ so that len(CustomDatasetName) returns the number of data samples                     \n",
        "    def __len__(self):\n",
        "        return len(self.Y)\n",
        "   \n",
        "    # Overriding the method __getitem__ so that CustomDatasetName[i] returns the i-th sample of the dataset                      \n",
        "    def __getitem__(self, idx):\n",
        "           return self.X[idx], self.Y[idx]"
      ]
    },
    {
      "cell_type": "code",
      "execution_count": 10,
      "metadata": {
        "id": "cmjsfRZPuCQc"
      },
      "outputs": [],
      "source": [
        "toy_dataset = CustomDataset(toy_corpus, toy_categories)"
      ]
    },
    {
      "cell_type": "code",
      "execution_count": 11,
      "metadata": {
        "colab": {
          "base_uri": "https://localhost:8080/"
        },
        "id": "pxyTBFp6uGaL",
        "outputId": "8b843285-79e9-4e74-df70-3699c996c3f7"
      },
      "outputs": [
        {
          "output_type": "stream",
          "name": "stdout",
          "text": [
            "5\n",
            "('i walked down down the boulevard', 0)\n",
            "('i walked down the avenue', 0)\n",
            "('i ran down the boulevard', 1)\n",
            "('i walk down the city', 0)\n",
            "('i walk down the the avenue', 0)\n"
          ]
        }
      ],
      "source": [
        "print(len(toy_dataset))\n",
        "for i in range(len(toy_dataset)):\n",
        "    print(toy_dataset[i])"
      ]
    },
    {
      "cell_type": "markdown",
      "metadata": {
        "id": "BdtlHKpJuKwY"
      },
      "source": [
        "```torch.utils.data.DataLoader``` is what we call an iterator, which provides very useful features:\n",
        "- Batching the data\n",
        "- Shuffling the data\n",
        "- Load the data in parallel using multiprocessing workers.\n",
        "and can be created very simply from a ```Dataset```. Continuing on our simple example: "
      ]
    },
    {
      "cell_type": "code",
      "execution_count": 12,
      "metadata": {
        "id": "WAk7_20auGdJ"
      },
      "outputs": [],
      "source": [
        "toy_dataloader = DataLoader(toy_dataset, batch_size = 2, shuffle = True)"
      ]
    },
    {
      "cell_type": "code",
      "execution_count": 13,
      "metadata": {
        "colab": {
          "base_uri": "https://localhost:8080/"
        },
        "id": "oTvn7nmZuGgE",
        "outputId": "a6cbe47d-d0d1-48a1-8474-b0d0dad6546c"
      },
      "outputs": [
        {
          "output_type": "stream",
          "name": "stdout",
          "text": [
            "Epoch:0\n",
            "Batch: ('i walk down the the avenue', 'i ran down the boulevard'); labels: tensor([0, 1])\n",
            "Batch: ('i walk down the city', 'i walked down down the boulevard'); labels: tensor([0, 0])\n",
            "Batch: ('i walked down the avenue',); labels: tensor([0])\n",
            "Epoch:1\n",
            "Batch: ('i walked down down the boulevard', 'i ran down the boulevard'); labels: tensor([0, 1])\n",
            "Batch: ('i walk down the city', 'i walked down the avenue'); labels: tensor([0, 0])\n",
            "Batch: ('i walk down the the avenue',); labels: tensor([0])\n",
            "Epoch:2\n",
            "Batch: ('i ran down the boulevard', 'i walked down the avenue'); labels: tensor([1, 0])\n",
            "Batch: ('i walk down the city', 'i walk down the the avenue'); labels: tensor([0, 0])\n",
            "Batch: ('i walked down down the boulevard',); labels: tensor([0])\n"
          ]
        }
      ],
      "source": [
        "for e in range(3):\n",
        "    print(\"Epoch:\" + str(e))\n",
        "    for x, y in toy_dataloader:\n",
        "        print(\"Batch: \" + str(x) + \"; labels: \" + str(y))  "
      ]
    },
    {
      "cell_type": "markdown",
      "metadata": {
        "id": "7lgbEZpbuQLN"
      },
      "source": [
        "## 3 - Data processing of a text dataset\n",
        "\n",
        "Now, we would like to apply what we saw to our case, and **create a specific class** ```TextClassificationDataset``` **inheriting** ```Dataset``` that will:\n",
        "- Create a vocabulary from the data (use what we saw in the previous TP)\n",
        "- Preprocess the data using this vocabulary, adding whatever we need for our pytorch model\n",
        "- Have a ```__getitem__``` method that allows us to use the class with a ```Dataloader``` to easily build batches."
      ]
    },
    {
      "cell_type": "code",
      "execution_count": 2,
      "metadata": {
        "id": "LXMyhHSfuGl4"
      },
      "outputs": [],
      "source": [
        "import os\n",
        "import sys\n",
        "import os.path as op\n",
        "from torch.nn import functional as F\n",
        "import numpy as np\n",
        "import random\n",
        "\n",
        "from nltk import word_tokenize\n",
        "from torch.nn.utils.rnn import pad_sequence"
      ]
    },
    {
      "cell_type": "markdown",
      "metadata": {
        "id": "brvWrFAHvfzX"
      },
      "source": [
        "First, we get the filenames and the corresponding categories: "
      ]
    },
    {
      "cell_type": "code",
      "execution_count": 3,
      "metadata": {
        "colab": {
          "base_uri": "https://localhost:8080/"
        },
        "id": "WWrPRszpuGoY",
        "outputId": "76e7a1d0-ed0c-42f4-cd07-864c9deff3af"
      },
      "outputs": [
        {
          "output_type": "stream",
          "name": "stderr",
          "text": [
            "Downloading...\n",
            "From: http://ai.stanford.edu/~amaas/data/sentiment/aclImdb_v1.tar.gz\n",
            "To: /content/aclImdb_v1.tar.gz\n",
            "100%|██████████| 84.1M/84.1M [00:01<00:00, 52.9MB/s]\n"
          ]
        }
      ],
      "source": [
        "# For those on google colab: you can download the files directly with this:\n",
        "import gdown\n",
        "gdown.download(\"http://ai.stanford.edu/~amaas/data/sentiment/aclImdb_v1.tar.gz\", output=\"aclImdb_v1.tar.gz\", quiet=False)\n",
        "!tar xzf /content/aclImdb_v1.tar.gz"
      ]
    },
    {
      "cell_type": "code",
      "execution_count": 4,
      "metadata": {
        "id": "zWxaPdQjuGrm",
        "colab": {
          "base_uri": "https://localhost:8080/"
        },
        "outputId": "4207d54c-5e7f-4055-caa9-a5f3e7df358b"
      },
      "outputs": [
        {
          "output_type": "stream",
          "name": "stderr",
          "text": [
            "/usr/local/lib/python3.7/dist-packages/ipykernel_launcher.py:25: DeprecationWarning: `np.int` is a deprecated alias for the builtin `int`. To silence this warning, use `int` by itself. Doing this will not modify any behavior and is safe. When replacing `np.int`, you may wish to use e.g. `np.int64` or `np.int32` to specify the precision. If you wish to review your current use, check the release note link for additional information.\n",
            "Deprecated in NumPy 1.20; for more details and guidance: https://numpy.org/devdocs/release/1.20.0-notes.html#deprecations\n"
          ]
        }
      ],
      "source": [
        "from glob import glob\n",
        "# We get the files from the path: ./aclImdb/train/neg for negative reviews, and ./aclImdb/train/pos for positive reviews\n",
        "train_filenames_neg = sorted(glob(op.join('.', 'aclImdb', 'train', 'neg', '*.txt')))\n",
        "train_filenames_pos = sorted(glob(op.join('.', 'aclImdb', 'train', 'pos', '*.txt')))\n",
        "\n",
        "test_filenames_neg = sorted(glob(op.join('.', 'aclImdb', 'test', 'neg', '*.txt')))\n",
        "test_filenames_pos = sorted(glob(op.join('.', 'aclImdb', 'test', 'pos', '*.txt')))\n",
        "\n",
        "# Each files contains a review that consists in one line of text: we put this string in two lists, that we concatenate\n",
        "train_texts_neg = [open(f, encoding=\"utf8\").read() for f in train_filenames_neg]\n",
        "train_texts_pos = [open(f, encoding=\"utf8\").read() for f in train_filenames_pos]\n",
        "train_texts = train_texts_neg + train_texts_pos\n",
        "\n",
        "test_texts_neg = [open(f, encoding=\"utf8\").read() for f in test_filenames_neg]\n",
        "test_texts_pos = [open(f, encoding=\"utf8\").read() for f in test_filenames_pos]\n",
        "test_texts = test_texts_neg + test_texts_pos\n",
        "\n",
        "\n",
        "# The first half of the elements of the list are string of negative reviews, and the second half positive ones\n",
        "# We create the labels, as an array of [1,len(texts)], filled with 1, and change the first half to 0\n",
        "train_labels = np.ones(len(train_texts), dtype=int)\n",
        "train_labels[:len(train_texts_neg)] = 0.\n",
        "\n",
        "\n",
        "test_labels = np.ones(len(test_texts), dtype=np.int)\n",
        "test_labels[:len(test_texts_neg)] = 0."
      ]
    },
    {
      "cell_type": "markdown",
      "metadata": {
        "id": "g2F1biXNv62G"
      },
      "source": [
        "Example of one document:"
      ]
    },
    {
      "cell_type": "code",
      "execution_count": 5,
      "metadata": {
        "colab": {
          "base_uri": "https://localhost:8080/",
          "height": 107
        },
        "id": "2XL0ZBz_uCTX",
        "outputId": "0c6823fc-bff2-47c9-ce75-dfddc621ec51"
      },
      "outputs": [
        {
          "output_type": "execute_result",
          "data": {
            "text/plain": [
              "\"Story of a man who has unnatural feelings for a pig. Starts out with a opening scene that is a terrific example of absurd comedy. A formal orchestra audience is turned into an insane, violent mob by the crazy chantings of it's singers. Unfortunately it stays absurd the WHOLE time with no general narrative eventually making it just too off putting. Even those from the era should be turned off. The cryptic dialogue would make Shakespeare seem easy to a third grader. On a technical level it's better than you might think with some good cinematography by future great Vilmos Zsigmond. Future stars Sally Kirkland and Frederic Forrest can be seen briefly.\""
            ],
            "application/vnd.google.colaboratory.intrinsic+json": {
              "type": "string"
            }
          },
          "metadata": {},
          "execution_count": 5
        }
      ],
      "source": [
        "open(\"./aclImdb/train/neg/0_3.txt\", encoding=\"utf8\").read()"
      ]
    },
    {
      "cell_type": "markdown",
      "metadata": {
        "id": "Mad2WjyxwIp_"
      },
      "source": [
        "We can use a function from sklearn, ```train_test_split```, to separate data into training and validation sets:\n",
        "\n"
      ]
    },
    {
      "cell_type": "code",
      "execution_count": 6,
      "metadata": {
        "id": "5VXYzolvv79h"
      },
      "outputs": [],
      "source": [
        "from sklearn.model_selection import train_test_split"
      ]
    },
    {
      "cell_type": "code",
      "execution_count": 7,
      "metadata": {
        "id": "lOZxlsdHwW8s"
      },
      "outputs": [],
      "source": [
        "train_texts_splt, val_texts, train_labels_splt, val_labels = train_test_split(train_texts, train_labels, test_size=.2)"
      ]
    },
    {
      "cell_type": "markdown",
      "metadata": {
        "id": "fTuq86F_w38k"
      },
      "source": [
        "We can now implement our ```TextClassificationDataset``` class, that we will build from:\n",
        "- A list of path to the IMDB files in the training set: ```path_to_file```\n",
        "- A list of the corresponding categories: ```categories```\n",
        "We will add three optional arguments:\n",
        "- First, a way to input a vocabulary (so that we can re-use the training vocabulary on the validation and training ```TextClassificationDataset```). By default, the value of the argument is ```None```.\n",
        "- In order to work with batches, we will need to have sequences of the same size. That can be done via **padding** but we will still need to limit the size of documents (to avoid having batches of huge sequences that are mostly empty because of one very long documents) to a ```max_length```. Let's put it to 100 by default.\n",
        "- Lastly, a ```min_freq``` that indicates how many times a word must appear to be taken in the vocabulary. "
      ]
    },
    {
      "cell_type": "markdown",
      "metadata": {
        "id": "uEv4BW4ow6Qe"
      },
      "source": [
        "The idea behind **padding** is to transform a list of pytorch tensors (of maybe different length) into a two dimensional tensor - which we can see as a batch. The size of the first dimension is the one of the longest tensor - and other are **padded** with a chosen symbol: here, we choose 0. "
      ]
    },
    {
      "cell_type": "code",
      "execution_count": 20,
      "metadata": {
        "id": "5HvjckX8wW_Y"
      },
      "outputs": [],
      "source": [
        "tensor_1 = torch.LongTensor([1, 4, 5])\n",
        "tensor_2 = torch.LongTensor([2])\n",
        "tensor_3 = torch.LongTensor([6, 7])"
      ]
    },
    {
      "cell_type": "code",
      "execution_count": 21,
      "metadata": {
        "colab": {
          "base_uri": "https://localhost:8080/"
        },
        "id": "1TkfZxx6w9E-",
        "outputId": "2da84941-3c65-4828-fa9b-303045c4f90f"
      },
      "outputs": [
        {
          "output_type": "stream",
          "name": "stdout",
          "text": [
            "tensor([[1, 4, 5],\n",
            "        [2, 0, 0],\n",
            "        [6, 7, 0]])\n"
          ]
        }
      ],
      "source": [
        "tensor_padded = pad_sequence([tensor_1, tensor_2, tensor_3], batch_first=True, padding_value = 0)\n",
        "print(tensor_padded)"
      ]
    },
    {
      "cell_type": "markdown",
      "metadata": {
        "id": "1_O6OM-MeQP8"
      },
      "source": [
        "<div class='alert alert-block alert-info'>\n",
        "            Code:</div>"
      ]
    },
    {
      "cell_type": "code",
      "source": [
        "train_texts_splt[0]"
      ],
      "metadata": {
        "colab": {
          "base_uri": "https://localhost:8080/",
          "height": 36
        },
        "id": "yF3tPlRu-4Q4",
        "outputId": "eb63dff8-eda2-4cb5-f887-e9b484462c11"
      },
      "execution_count": 22,
      "outputs": [
        {
          "output_type": "execute_result",
          "data": {
            "text/plain": [
              "'A rating of \"1\" does not begin to express how dull, depressing and relentlessly bad this movie is.'"
            ],
            "application/vnd.google.colaboratory.intrinsic+json": {
              "type": "string"
            }
          },
          "metadata": {},
          "execution_count": 22
        }
      ]
    },
    {
      "cell_type": "code",
      "execution_count": 23,
      "metadata": {
        "id": "o1n5H6RUw9H2"
      },
      "outputs": [],
      "source": [
        "class TextClassificationDataset(Dataset):\n",
        "    def __init__(self, data, categories, vocab = None, max_length = 100, min_freq = 5):\n",
        "        self.data = data      \n",
        "        # Set the maximum length we will keep for the sequences\n",
        "        self.max_length = max_length\n",
        "        \n",
        "        # Allow to import a vocabulary (for valid/test datasets, that will use the training vocabulary)\n",
        "        if vocab is not None:\n",
        "            self.word2idx, self.idx2word = vocab\n",
        "        else:\n",
        "            # If no vocabulary imported, build it (and reverse)\n",
        "            self.word2idx, self.idx2word = self.build_vocab(self.data, min_freq)\n",
        "        \n",
        "        # We then need to tokenize the data .. \n",
        "        tokenized_data = [word_tokenize(sentence) for sentence in data]# To complete\n",
        "        # Transform words into lists of indexes ... (use the .get() method to redirect unknown words to the UNK token)\n",
        "        indexed_data = [[self.word2idx.get(word, self.word2idx[\"UNK\"]) for word in sentence] for sentence in tokenized_data] # To complete\n",
        "        # And transform this list of lists into a list of Pytorch LongTensors\n",
        "        tensor_data = [torch.LongTensor(x) for x in indexed_data]# To complete\n",
        "        # And the categories into a FloatTensor\n",
        "        tensor_y = torch.FloatTensor(categories)# To complete\n",
        "        # To finally cut it when it's above the maximum length\n",
        "        cut_tensor_data = [x[:max_length] for x in tensor_data]    # To complete\n",
        "        \n",
        "        # Now, we need to use the pad_sequence function to have the whole dataset represented as one tensor,\n",
        "        # containing sequences of the same length. We choose the padding_value to be 0, the we want the\n",
        "        # batch dimension to be the first dimension \n",
        "        self.tensor_data = pad_sequence(cut_tensor_data, batch_first=True, padding_value = 0)   # To complete\n",
        "        self.tensor_y = tensor_y\n",
        "        \n",
        "    def __len__(self):\n",
        "        return len(self.data)\n",
        "\n",
        "    def __getitem__(self, idx):\n",
        "        # The iterator just gets one particular example with its category\n",
        "        # The dataloader will take care of the shuffling and batching\n",
        "        if torch.is_tensor(idx):\n",
        "            idx = idx.tolist()\n",
        "        return self.tensor_data[idx], self.tensor_y[idx] \n",
        "    \n",
        "    def build_vocab(self, corpus, count_threshold):\n",
        "        \"\"\"\n",
        "        Same as in the previous TP: we want to output word_index, a dictionary containing words \n",
        "        and their corresponding indexes as {word : indexes} \n",
        "        But we also want the reverse, which is a dictionary {indexes: word}\n",
        "        Don't forget to add a UNK token that we need when encountering unknown words\n",
        "        We also choose '0' to represent the padding index, so begin the vocabulary index at 1 ! \n",
        "        \"\"\"\n",
        "        # To complete\n",
        "        corpus_tokenize = [word_tokenize(word) for word in corpus]\n",
        "        corpus_tokenize = np.char.lower(np.concatenate(corpus_tokenize)) \n",
        "        corpus_tokenize = np.unique(corpus_tokenize, return_counts= True)\n",
        "        word_counts = {k:v for k,v in zip(corpus_tokenize[0], corpus_tokenize[1])}\n",
        "        word_counts = {k: word_counts[k] for k in sorted(word_counts, key=word_counts.get, reverse=True)}\n",
        "        if count_threshold == 0 :\n",
        "            filtered_word_counts = word_counts\n",
        "            filtered_word_counts[\"UNK\"] = 0\n",
        "            word_index = {k:v+1 for v,k in enumerate(filtered_word_counts.keys())}\n",
        "        else :\n",
        "            filtered_word_counts = {k:v for k,v in word_counts.items() if v > count_threshold}\n",
        "            filtered_word_counts[\"UNK\"] = 0\n",
        "            word_index = {k:v+1 for v,k in enumerate(filtered_word_counts.keys())}\n",
        "        \n",
        "        idx_word = {k:v for v,k in word_index.items()}\n",
        "    \n",
        "        return word_index, idx_word\n",
        "    \n",
        "    def get_vocab(self):\n",
        "        # A simple way to get the training vocab when building the valid/test \n",
        "        return self.word2idx, self.idx2word"
      ]
    },
    {
      "cell_type": "code",
      "execution_count": 24,
      "metadata": {
        "colab": {
          "base_uri": "https://localhost:8080/"
        },
        "id": "CM0NsS3DzYmI",
        "outputId": "23dc0f71-e396-4acc-9ba1-91880f0b82f0"
      },
      "outputs": [
        {
          "output_type": "stream",
          "name": "stderr",
          "text": [
            "[nltk_data] Downloading package punkt to /root/nltk_data...\n",
            "[nltk_data]   Package punkt is already up-to-date!\n"
          ]
        },
        {
          "output_type": "execute_result",
          "data": {
            "text/plain": [
              "True"
            ]
          },
          "metadata": {},
          "execution_count": 24
        }
      ],
      "source": [
        "import nltk\n",
        "nltk.download('punkt')"
      ]
    },
    {
      "cell_type": "code",
      "execution_count": 25,
      "metadata": {
        "id": "QwA5Jxm3w9Kw"
      },
      "outputs": [],
      "source": [
        "training_dataset = TextClassificationDataset(train_texts_splt, train_labels_splt, min_freq=5)\n",
        "training_word2idx, training_idx2word = training_dataset.get_vocab()"
      ]
    },
    {
      "cell_type": "code",
      "execution_count": 26,
      "metadata": {
        "id": "HBD-W4fzw9NR"
      },
      "outputs": [],
      "source": [
        "valid_dataset = TextClassificationDataset(val_texts, val_labels, (training_word2idx, training_idx2word))"
      ]
    },
    {
      "cell_type": "code",
      "execution_count": 27,
      "metadata": {
        "id": "n3ei2xd6JnvS"
      },
      "outputs": [],
      "source": [
        "test_dataset = TextClassificationDataset(test_texts, test_labels, (training_word2idx, training_idx2word))"
      ]
    },
    {
      "cell_type": "code",
      "execution_count": 28,
      "metadata": {
        "id": "FvWlJpbRw9Pt"
      },
      "outputs": [],
      "source": [
        "training_dataloader = DataLoader(training_dataset, batch_size = 200, shuffle=True)\n",
        "valid_dataloader = DataLoader(valid_dataset, batch_size = 25)\n",
        "test_dataloader = DataLoader(test_dataset, batch_size = 25)"
      ]
    },
    {
      "cell_type": "code",
      "execution_count": 29,
      "metadata": {
        "colab": {
          "base_uri": "https://localhost:8080/"
        },
        "id": "LidGZUp-w9SN",
        "outputId": "44f144fd-3624-4ac4-ab2f-73b2bf3b9703"
      },
      "outputs": [
        {
          "output_type": "stream",
          "name": "stdout",
          "text": [
            "(tensor([25161,     2,   754,     6,  5550,     2,  1861,     2,  7677,     2,\n",
            "         6534,     2,  9859,     2,  6098, 25161,     2,   339, 25161,   193,\n",
            "          975,     3, 25161,    37,     5,   808,   330,    20,     7,   153,\n",
            "            2,    24,    72,   129,    38,  1270,  1267,   771,     3, 25161,\n",
            "         9996,  1838,    67,    38,    45,  3154,    21,     1, 20293,   748,\n",
            "            2,    24,   110,    28,   281,   248,  1508,     1,   126,  1505,\n",
            "            3, 25161,    45,   396,    25,   193, 25161,   193, 25161,    34,\n",
            "           79,   636,   533,     2,    24,     1,   134,    19,    39,    28,\n",
            "           92, 19399,   197,   412,    29,     3, 25161,   162,   143,  1064,\n",
            "            7,    80,     5,  7526,    25,   132,    96,    95,    29,    22]), tensor(0.))\n"
          ]
        }
      ],
      "source": [
        "print(valid_dataset[1])"
      ]
    },
    {
      "cell_type": "code",
      "execution_count": 30,
      "metadata": {
        "colab": {
          "base_uri": "https://localhost:8080/"
        },
        "id": "891JXUwPw9Ux",
        "outputId": "630e3ed0-1092-48a2-ea23-d96b2dfea4eb"
      },
      "outputs": [
        {
          "output_type": "stream",
          "name": "stdout",
          "text": [
            "torch.Size([200, 100])\n",
            "torch.Size([200])\n"
          ]
        }
      ],
      "source": [
        "example_batch = next(iter(training_dataloader))\n",
        "print(example_batch[0].size())\n",
        "print(example_batch[1].size())"
      ]
    },
    {
      "cell_type": "markdown",
      "metadata": {
        "id": "7n9XkuTs0GKT"
      },
      "source": [
        "### 4 - A simple averaging model\n",
        "\n",
        "Now, we will implement in Pytorch what we did in the previous TP: a simple averaging model. For each model we will implement, we need to create a class which inherits from ```nn.Module``` and redifine the ```__init__``` method as well as the ```forward``` method."
      ]
    },
    {
      "cell_type": "markdown",
      "metadata": {
        "id": "B29B91PEeQP9"
      },
      "source": [
        "<div class='alert alert-block alert-info'>\n",
        "            Code:</div>"
      ]
    },
    {
      "cell_type": "code",
      "execution_count": 31,
      "metadata": {
        "id": "wCmyWWQq0LDS"
      },
      "outputs": [],
      "source": [
        "# Models are usually implemented as custom nn.Module subclass\n",
        "# We need to redefine the __init__ method, which creates the object\n",
        "# We also need to redefine the forward method, which transform the input into outputs\n",
        "\n",
        "class AveragingModel(nn.Module):    \n",
        "    def __init__(self, embedding_dim, vocabulary_size):\n",
        "        super().__init__()\n",
        "        # Create an embedding object. Be careful to padding - you need to increase the vocabulary size by one !\n",
        "        # Look into the arguments of the nn.Embedding class\n",
        "        self.embeddings = nn.Embedding(vocabulary_size+1, embedding_dim)    # To complete\n",
        "        # Create a linear layer that will transform the mean of the embeddings into a classification score\n",
        "        self.linear = nn.Linear(embedding_dim, 1)           # To complete\n",
        "        \n",
        "        # No need for sigmoid, it will be into the criterion ! \n",
        "        \n",
        "    def forward(self, inputs):\n",
        "        # Remember: the inpts are written as Batch_size * seq_length * embedding_dim\n",
        "        # First, take the mean of the embeddings of the document\n",
        "        x = self.embeddings(inputs)\n",
        "        x = torch.mean(x, dim=1)  # To complete\n",
        "        # Then make it go through the linear layer and remove the extra dimension with the method .squeeze()\n",
        "        o =  torch.squeeze(self.linear(x))                \n",
        "        \n",
        "         # To complete\n",
        "        return o"
      ]
    },
    {
      "cell_type": "code",
      "execution_count": 32,
      "metadata": {
        "id": "5VH2C2rE0FR_"
      },
      "outputs": [],
      "source": [
        "import torch.optim as optim"
      ]
    },
    {
      "cell_type": "code",
      "execution_count": 33,
      "metadata": {
        "id": "wZp4RDMW0LGX"
      },
      "outputs": [],
      "source": [
        "model = AveragingModel(300, len(training_word2idx))\n",
        "# Create an optimizer\n",
        "opt = optim.Adam(model.parameters(), lr=0.0025, betas=(0.9, 0.999))\n",
        "# The criterion is a binary cross entropy loss based on logits - meaning that the sigmoid is integrated into the criterion\n",
        "criterion = nn.BCEWithLogitsLoss()"
      ]
    },
    {
      "cell_type": "markdown",
      "metadata": {
        "id": "YCbzJuUGeQP-"
      },
      "source": [
        "<div class='alert alert-block alert-info'>\n",
        "            Code:</div>"
      ]
    },
    {
      "cell_type": "code",
      "execution_count": 34,
      "metadata": {
        "id": "JM9MFRVQ0LJh"
      },
      "outputs": [],
      "source": [
        "# Implement a training function, which will train the model with the corresponding optimizer and criterion,\n",
        "# with the appropriate dataloader, for one epoch.\n",
        "\n",
        "def train_epoch(model, opt, criterion, dataloader):\n",
        "    model.train()\n",
        "    losses = []\n",
        "    for i, (x, y) in enumerate(dataloader):\n",
        "        opt.zero_grad()\n",
        "        # (1) Forward\n",
        "        pred = model(x)# To complete\n",
        "        # (2) Compute the loss \n",
        "        loss = criterion(pred, y)# To complete\n",
        "        # (3) Compute gradients with the criterion\n",
        "        loss.backward(retain_graph=True)  # To complete\n",
        "        # (4) Update weights with the optimizer\n",
        "        opt.step()              # To complete   \n",
        "        opt.zero_grad()    \n",
        "        losses.append(loss.item())\n",
        "        # Count the number of correct predictions in the batch - here, you'll need to use the sigmoid\n",
        "        with torch.no_grad():\n",
        "            num_corrects = (torch.round(torch.sigmoid(pred)) == y).sum()     # To complete\n",
        "            acc = 100.0 * num_corrects/len(y)\n",
        "        \n",
        "        if (i%20 == 0):\n",
        "            print(\"Batch \" + str(i) + \" : training loss = \" + str(loss.item()) + \"; training acc = \" + str(acc.item()))\n",
        "    return losses"
      ]
    },
    {
      "cell_type": "markdown",
      "metadata": {
        "id": "4Np7OGPdeQP_"
      },
      "source": [
        "<div class='alert alert-block alert-info'>\n",
        "            Code:</div>"
      ]
    },
    {
      "cell_type": "code",
      "execution_count": 35,
      "metadata": {
        "id": "vz82AFmL0LMx"
      },
      "outputs": [],
      "source": [
        "# Same for the evaluation ! We don't need the optimizer here. \n",
        "def eval_model(model, criterion, evalloader):\n",
        "    model.eval()\n",
        "    total_epoch_loss = 0\n",
        "    total_epoch_acc = 0\n",
        "    with torch.no_grad():\n",
        "        for i, (x, y) in enumerate(evalloader):\n",
        "            pred = model(x) # To complete\n",
        "            loss = criterion(pred, y)# To complete\n",
        "            num_corrects = (torch.round(torch.sigmoid(pred)) == y).sum() # To complete\n",
        "            acc = 100.0 * num_corrects/len(y)\n",
        "            total_epoch_loss += loss.item()\n",
        "            total_epoch_acc += acc.item()\n",
        "\n",
        "    return total_epoch_loss/(i+1), total_epoch_acc/(i+1)"
      ]
    },
    {
      "cell_type": "code",
      "execution_count": 36,
      "metadata": {
        "id": "J8grPth70ZyO"
      },
      "outputs": [],
      "source": [
        "# A function which will help you execute experiments rapidly - with a early_stopping option when necessary. \n",
        "def experiment(model, opt, criterion, num_epochs = 5, early_stopping = True):\n",
        "    train_losses = []\n",
        "    if early_stopping: \n",
        "        best_valid_loss = 10. \n",
        "    print(\"Beginning training...\")\n",
        "    for e in range(num_epochs):\n",
        "        print(\"Epoch \" + str(e+1) + \":\")\n",
        "        train_losses += train_epoch(model, opt, criterion, training_dataloader)\n",
        "        valid_loss, valid_acc = eval_model(model, criterion, valid_dataloader)\n",
        "        print(\"Epoch \" + str(e+1) + \" : Validation loss = \" + str(valid_loss) + \"; Validation acc = \" + str(valid_acc))\n",
        "        if early_stopping:\n",
        "            if valid_loss < best_valid_loss:\n",
        "                best_valid_loss = valid_loss\n",
        "            else:\n",
        "                print(\"Early stopping.\")\n",
        "                break  \n",
        "    test_loss, test_acc = eval_model(model, criterion, test_dataloader)\n",
        "    print(\"Epoch \" + str(e+1) + \" : Test loss = \" + str(test_loss) + \"; Test acc = \" + str(test_acc))\n",
        "    return train_losses"
      ]
    },
    {
      "cell_type": "code",
      "execution_count": 37,
      "metadata": {
        "id": "UZvgnfo10Z1i",
        "colab": {
          "base_uri": "https://localhost:8080/"
        },
        "outputId": "5ec44eeb-1003-4477-e52b-382cd9b78f5b"
      },
      "outputs": [
        {
          "output_type": "stream",
          "name": "stdout",
          "text": [
            "Beginning training...\n",
            "Epoch 1:\n",
            "Batch 0 : training loss = 0.6856184601783752; training acc = 55.5\n",
            "Batch 20 : training loss = 0.6744191646575928; training acc = 61.5\n",
            "Batch 40 : training loss = 0.6667224764823914; training acc = 58.5\n",
            "Batch 60 : training loss = 0.6366970539093018; training acc = 66.0\n",
            "Batch 80 : training loss = 0.6177991628646851; training acc = 66.5\n",
            "Epoch 1 : Validation loss = 0.5884474724531173; Validation acc = 71.54\n",
            "Epoch 2:\n",
            "Batch 0 : training loss = 0.5389265418052673; training acc = 77.0\n",
            "Batch 20 : training loss = 0.5352630615234375; training acc = 77.5\n",
            "Batch 40 : training loss = 0.5540944337844849; training acc = 76.5\n",
            "Batch 60 : training loss = 0.5212818384170532; training acc = 76.0\n",
            "Batch 80 : training loss = 0.5089758038520813; training acc = 72.5\n",
            "Epoch 2 : Validation loss = 0.48073876097798346; Validation acc = 78.66\n",
            "Epoch 3:\n",
            "Batch 0 : training loss = 0.47090399265289307; training acc = 77.5\n",
            "Batch 20 : training loss = 0.4272727072238922; training acc = 81.0\n",
            "Batch 40 : training loss = 0.38490429520606995; training acc = 82.5\n",
            "Batch 60 : training loss = 0.4352189004421234; training acc = 78.5\n",
            "Batch 80 : training loss = 0.40857985615730286; training acc = 80.5\n",
            "Epoch 3 : Validation loss = 0.43706161811947825; Validation acc = 80.18\n",
            "Epoch 4:\n",
            "Batch 0 : training loss = 0.4024132192134857; training acc = 80.5\n",
            "Batch 20 : training loss = 0.4061068594455719; training acc = 82.5\n",
            "Batch 40 : training loss = 0.37938305735588074; training acc = 81.5\n",
            "Batch 60 : training loss = 0.31612661480903625; training acc = 88.5\n",
            "Batch 80 : training loss = 0.3527069091796875; training acc = 84.5\n",
            "Epoch 4 : Validation loss = 0.4185082821547985; Validation acc = 81.72\n",
            "Epoch 5:\n",
            "Batch 0 : training loss = 0.4126320779323578; training acc = 83.0\n",
            "Batch 20 : training loss = 0.31410712003707886; training acc = 85.0\n",
            "Batch 40 : training loss = 0.35331401228904724; training acc = 85.0\n",
            "Batch 60 : training loss = 0.3122336268424988; training acc = 86.0\n",
            "Batch 80 : training loss = 0.32999706268310547; training acc = 84.5\n",
            "Epoch 5 : Validation loss = 0.4154703987389803; Validation acc = 81.42\n",
            "Epoch 5 : Test loss = 0.4201450725868344; Test acc = 80.576\n"
          ]
        }
      ],
      "source": [
        "train_losses = experiment(model, opt, criterion)"
      ]
    },
    {
      "cell_type": "code",
      "execution_count": 38,
      "metadata": {
        "id": "m-CIwDga0Z7q",
        "colab": {
          "base_uri": "https://localhost:8080/",
          "height": 283
        },
        "outputId": "e6697b3e-863d-4110-9cb4-86aac71d4cfb"
      },
      "outputs": [
        {
          "output_type": "execute_result",
          "data": {
            "text/plain": [
              "[<matplotlib.lines.Line2D at 0x7f86ef69c390>]"
            ]
          },
          "metadata": {},
          "execution_count": 38
        },
        {
          "output_type": "display_data",
          "data": {
            "text/plain": [
              "<Figure size 432x288 with 1 Axes>"
            ],
            "image/png": "[encoded data removed]"
          },
          "metadata": {
            "needs_background": "light"
          }
        }
      ],
      "source": [
        "import matplotlib.pyplot as plt\n",
        "plt.plot(train_losses)"
      ]
    },
    {
      "cell_type": "markdown",
      "metadata": {
        "id": "kp8d-0N7JPlR"
      },
      "source": [
        "### With Glove embeddings: \n",
        "\n",
        "Now, we would like to integrate pre-trained word embeddings into our model ! Let's use again the functions that we used in the previous lab:"
      ]
    },
    {
      "cell_type": "code",
      "execution_count": 39,
      "metadata": {
        "id": "RUa7xjDv0Z-0",
        "colab": {
          "base_uri": "https://localhost:8080/"
        },
        "outputId": "c0e925a2-f511-4f2e-93b9-0875144105c6"
      },
      "outputs": [
        {
          "output_type": "stream",
          "name": "stderr",
          "text": [
            "/usr/local/lib/python3.7/dist-packages/gensim/similarities/__init__.py:15: UserWarning: The gensim.similarities.levenshtein submodule is disabled, because the optional Levenshtein package <https://pypi.org/project/python-Levenshtein/> is unavailable. Install Levenhstein (e.g. `pip install python-Levenshtein`) to suppress this warning.\n",
            "  warnings.warn(msg)\n"
          ]
        }
      ],
      "source": [
        "import gensim.downloader as api\n",
        "loaded_glove_model = api.load(\"glove-wiki-gigaword-300\")\n",
        "loaded_glove_embeddings = loaded_glove_model.vectors"
      ]
    },
    {
      "cell_type": "code",
      "execution_count": 40,
      "metadata": {
        "id": "unwB2-4r0aBg"
      },
      "outputs": [],
      "source": [
        "def get_glove_adapted_embeddings(glove_model, input_voc):\n",
        "    keys = {i: glove_model.key_to_index.get(w, None) for w, i in input_voc.items()}\n",
        "    index_dict = {i: key for i, key in keys.items() if key is not None}\n",
        "    embeddings = np.zeros((len(input_voc)+1,glove_model.vectors.shape[1]))\n",
        "    for i, ind in index_dict.items():\n",
        "        embeddings[i] = glove_model.vectors[ind]\n",
        "    return embeddings\n",
        "\n",
        "GloveEmbeddings = get_glove_adapted_embeddings(loaded_glove_model, training_word2idx)"
      ]
    },
    {
      "cell_type": "code",
      "source": [
        "GloveEmbeddings.dtype"
      ],
      "metadata": {
        "colab": {
          "base_uri": "https://localhost:8080/"
        },
        "id": "RENvQ2CPqs2l",
        "outputId": "49a5aabc-62d9-4205-ab6a-12c112d57435"
      },
      "execution_count": 41,
      "outputs": [
        {
          "output_type": "execute_result",
          "data": {
            "text/plain": [
              "dtype('float64')"
            ]
          },
          "metadata": {},
          "execution_count": 41
        }
      ]
    },
    {
      "cell_type": "code",
      "execution_count": 42,
      "metadata": {
        "id": "dhoS6NH20aEU",
        "colab": {
          "base_uri": "https://localhost:8080/"
        },
        "outputId": "4b2bbe30-2a96-4fb5-eb57-ff2264af6584"
      },
      "outputs": [
        {
          "output_type": "stream",
          "name": "stdout",
          "text": [
            "(25162, 300)\n",
            "[0. 0. 0. 0. 0. 0. 0. 0. 0. 0. 0. 0. 0. 0. 0. 0. 0. 0. 0. 0. 0. 0. 0. 0.\n",
            " 0. 0. 0. 0. 0. 0. 0. 0. 0. 0. 0. 0. 0. 0. 0. 0. 0. 0. 0. 0. 0. 0. 0. 0.\n",
            " 0. 0. 0. 0. 0. 0. 0. 0. 0. 0. 0. 0. 0. 0. 0. 0. 0. 0. 0. 0. 0. 0. 0. 0.\n",
            " 0. 0. 0. 0. 0. 0. 0. 0. 0. 0. 0. 0. 0. 0. 0. 0. 0. 0. 0. 0. 0. 0. 0. 0.\n",
            " 0. 0. 0. 0. 0. 0. 0. 0. 0. 0. 0. 0. 0. 0. 0. 0. 0. 0. 0. 0. 0. 0. 0. 0.\n",
            " 0. 0. 0. 0. 0. 0. 0. 0. 0. 0. 0. 0. 0. 0. 0. 0. 0. 0. 0. 0. 0. 0. 0. 0.\n",
            " 0. 0. 0. 0. 0. 0. 0. 0. 0. 0. 0. 0. 0. 0. 0. 0. 0. 0. 0. 0. 0. 0. 0. 0.\n",
            " 0. 0. 0. 0. 0. 0. 0. 0. 0. 0. 0. 0. 0. 0. 0. 0. 0. 0. 0. 0. 0. 0. 0. 0.\n",
            " 0. 0. 0. 0. 0. 0. 0. 0. 0. 0. 0. 0. 0. 0. 0. 0. 0. 0. 0. 0. 0. 0. 0. 0.\n",
            " 0. 0. 0. 0. 0. 0. 0. 0. 0. 0. 0. 0. 0. 0. 0. 0. 0. 0. 0. 0. 0. 0. 0. 0.\n",
            " 0. 0. 0. 0. 0. 0. 0. 0. 0. 0. 0. 0. 0. 0. 0. 0. 0. 0. 0. 0. 0. 0. 0. 0.\n",
            " 0. 0. 0. 0. 0. 0. 0. 0. 0. 0. 0. 0. 0. 0. 0. 0. 0. 0. 0. 0. 0. 0. 0. 0.\n",
            " 0. 0. 0. 0. 0. 0. 0. 0. 0. 0. 0. 0.]\n"
          ]
        }
      ],
      "source": [
        "print(GloveEmbeddings.shape)\n",
        "# We should check that the \"padding\" vector is at zero\n",
        "print(GloveEmbeddings[0])"
      ]
    },
    {
      "cell_type": "markdown",
      "metadata": {
        "id": "SpkmUwA4LjT0"
      },
      "source": [
        "Here, implement a ```PretrainedAveragingModel``` very similar to the previous model, using the ```nn.Embedding``` method ```from_pretrained()``` to initialize the embeddings from a numpy array. Use the ```requires_grad_``` method to specify if the model must fine-tune the embeddings or not ! "
      ]
    },
    {
      "cell_type": "markdown",
      "metadata": {
        "id": "zPKDIcpJeQQA"
      },
      "source": [
        "<div class='alert alert-block alert-info'>\n",
        "            Code:</div>"
      ]
    },
    {
      "cell_type": "code",
      "execution_count": 43,
      "metadata": {
        "id": "aVh4fz39Lg5c"
      },
      "outputs": [],
      "source": [
        "# We will use the argument freeze of the method from_pretained : embedding.weight.requires_grad = False is equivalent to freeze = True\n",
        "\n",
        "class PretrainedAveragingModel(nn.Module):\n",
        "    # To complete\n",
        "    def __init__(self, embedding_dim, embeddings, not_fine_tune):\n",
        "        super().__init__()\n",
        "        self.embeddings = nn.Embedding.from_pretrained(torch.from_numpy(embeddings), freeze=not_fine_tune) \n",
        "        #self.embeddings.weight.requires_grad_= fine_tune \n",
        "        # Create a linear layer that will transform the mean of the embeddings into a classification score\n",
        "        self.linear = nn.Linear(embedding_dim, 1)           # To complete\n",
        "        \n",
        "        # No need for sigmoid, it will be into the criterion ! \n",
        "        \n",
        "    def forward(self, inputs):\n",
        "        # Remember: the inpts are written as Batch_size * seq_length * embedding_dim\n",
        "        # First, take the mean of the embeddings of the document\n",
        "        x = self.embeddings(inputs)\n",
        "        x = torch.mean(x, dim=1)  # To complete\n",
        "        # Then make it go through the linear layer and remove the extra dimension with the method .squeeze()\n",
        "        o =  torch.squeeze(self.linear(x), 1)                \n",
        "        \n",
        "         # To complete\n",
        "        return o"
      ]
    },
    {
      "cell_type": "markdown",
      "metadata": {
        "id": "rmQUbBVxLtwa"
      },
      "source": [
        "<div class='alert alert-block alert-warning'>\n",
        "            Questions:</div>\n",
        "            \n",
        "- What are the results **with and without fine-tuning of embeddings imported from GloVe** ?\n",
        "- Make hypothesis based on your intuition and the class on how the size of the vocabulary (change the minimum frequency of words to be taken in the vocabular) will impact results, in the three cases (No pre-training, pre-training without fine-tuning, pretraining with fine-tuning).\n",
        "- Verify experiments and analyze your results !"
      ]
    },
    {
      "cell_type": "code",
      "source": [
        "model_with_fine_tuning = PretrainedAveragingModel(300,GloveEmbeddings.astype(\"float32\"), not_fine_tune=False)\n",
        "model_without_fine_tuning = PretrainedAveragingModel(300,GloveEmbeddings.astype(\"float32\"), not_fine_tune=True)\n",
        "\n",
        "# The criterion is a binary cross entropy loss based on logits - meaning that the sigmoid is integrated into the criterion\n",
        "criterion = nn.BCEWithLogitsLoss()"
      ],
      "metadata": {
        "id": "wVjnvWop9E_p"
      },
      "execution_count": 44,
      "outputs": []
    },
    {
      "cell_type": "code",
      "execution_count": 45,
      "metadata": {
        "id": "xc6i1FXsLil8",
        "colab": {
          "base_uri": "https://localhost:8080/"
        },
        "outputId": "7c2814f4-0fc2-4e46-e83f-b4c9564094c9"
      },
      "outputs": [
        {
          "output_type": "stream",
          "name": "stdout",
          "text": [
            "Beginning training...\n",
            "Epoch 1:\n",
            "Batch 0 : training loss = 0.6919792890548706; training acc = 52.5\n",
            "Batch 20 : training loss = 0.6707504391670227; training acc = 66.0\n",
            "Batch 40 : training loss = 0.6498261094093323; training acc = 65.5\n",
            "Batch 60 : training loss = 0.602827787399292; training acc = 73.5\n",
            "Batch 80 : training loss = 0.5916861891746521; training acc = 76.0\n",
            "Epoch 1 : Validation loss = 0.5421701937913894; Validation acc = 75.46\n",
            "Epoch 2:\n",
            "Batch 0 : training loss = 0.5244527459144592; training acc = 77.5\n",
            "Batch 20 : training loss = 0.4973738491535187; training acc = 80.0\n",
            "Batch 40 : training loss = 0.48824676871299744; training acc = 75.5\n",
            "Batch 60 : training loss = 0.4467002749443054; training acc = 78.5\n",
            "Batch 80 : training loss = 0.4348433315753937; training acc = 81.5\n",
            "Epoch 2 : Validation loss = 0.43600484952330587; Validation acc = 80.76\n",
            "Epoch 3:\n",
            "Batch 0 : training loss = 0.37212204933166504; training acc = 84.5\n",
            "Batch 20 : training loss = 0.4068249762058258; training acc = 82.5\n",
            "Batch 40 : training loss = 0.3501026928424835; training acc = 85.5\n",
            "Batch 60 : training loss = 0.3930530548095703; training acc = 84.0\n",
            "Batch 80 : training loss = 0.41976913809776306; training acc = 81.5\n",
            "Epoch 3 : Validation loss = 0.4118326078355312; Validation acc = 81.8\n",
            "Epoch 4:\n",
            "Batch 0 : training loss = 0.2960488498210907; training acc = 89.5\n",
            "Batch 20 : training loss = 0.29434821009635925; training acc = 89.5\n",
            "Batch 40 : training loss = 0.31519946455955505; training acc = 88.0\n",
            "Batch 60 : training loss = 0.33065760135650635; training acc = 88.0\n",
            "Batch 80 : training loss = 0.263152152299881; training acc = 91.0\n",
            "Epoch 4 : Validation loss = 0.4095401109755039; Validation acc = 82.02\n",
            "Epoch 5:\n",
            "Batch 0 : training loss = 0.23384661972522736; training acc = 92.5\n",
            "Batch 20 : training loss = 0.24744544923305511; training acc = 93.5\n",
            "Batch 40 : training loss = 0.30580854415893555; training acc = 91.5\n",
            "Batch 60 : training loss = 0.23173107206821442; training acc = 93.0\n",
            "Batch 80 : training loss = 0.2856362462043762; training acc = 90.0\n",
            "Epoch 5 : Validation loss = 0.42017997525632383; Validation acc = 81.52\n",
            "Early stopping.\n",
            "Epoch 5 : Test loss = 0.426358645375818; Test acc = 80.528\n"
          ]
        }
      ],
      "source": [
        "train_losses_gv1 = experiment(model = model_with_fine_tuning ,\n",
        "                          opt = optim.Adam(model_with_fine_tuning.parameters(), lr=0.0025, betas=(0.9, 0.999)), criterion = criterion)"
      ]
    },
    {
      "cell_type": "code",
      "execution_count": 46,
      "metadata": {
        "id": "kzgSTvT5LiqC",
        "colab": {
          "base_uri": "https://localhost:8080/"
        },
        "outputId": "d613048c-fd9e-4abf-fcd8-0ebf17a94efa"
      },
      "outputs": [
        {
          "output_type": "stream",
          "name": "stdout",
          "text": [
            "Beginning training...\n",
            "Epoch 1:\n",
            "Batch 0 : training loss = 0.6896896958351135; training acc = 55.0\n",
            "Batch 20 : training loss = 0.6789358258247375; training acc = 57.0\n",
            "Batch 40 : training loss = 0.6786007881164551; training acc = 54.5\n",
            "Batch 60 : training loss = 0.6638731360435486; training acc = 67.0\n",
            "Batch 80 : training loss = 0.6597647666931152; training acc = 63.5\n",
            "Epoch 1 : Validation loss = 0.6509539580345154; Validation acc = 66.08\n",
            "Epoch 2:\n",
            "Batch 0 : training loss = 0.6578608751296997; training acc = 69.0\n",
            "Batch 20 : training loss = 0.6251240372657776; training acc = 72.5\n",
            "Batch 40 : training loss = 0.6183093786239624; training acc = 70.5\n",
            "Batch 60 : training loss = 0.624686598777771; training acc = 66.0\n",
            "Batch 80 : training loss = 0.6479880809783936; training acc = 64.5\n",
            "Epoch 2 : Validation loss = 0.6271477150917053; Validation acc = 68.54\n",
            "Epoch 3:\n",
            "Batch 0 : training loss = 0.6298785209655762; training acc = 67.0\n",
            "Batch 20 : training loss = 0.6520254611968994; training acc = 64.0\n",
            "Batch 40 : training loss = 0.628497838973999; training acc = 66.0\n",
            "Batch 60 : training loss = 0.6318383812904358; training acc = 69.5\n",
            "Batch 80 : training loss = 0.6314696669578552; training acc = 62.5\n",
            "Epoch 3 : Validation loss = 0.6089857545495033; Validation acc = 69.8\n",
            "Epoch 4:\n",
            "Batch 0 : training loss = 0.6089561581611633; training acc = 73.0\n",
            "Batch 20 : training loss = 0.6217430830001831; training acc = 68.5\n",
            "Batch 40 : training loss = 0.61619633436203; training acc = 71.0\n",
            "Batch 60 : training loss = 0.6093544960021973; training acc = 67.0\n",
            "Batch 80 : training loss = 0.5785360932350159; training acc = 74.5\n",
            "Epoch 4 : Validation loss = 0.5957869754731655; Validation acc = 71.32\n",
            "Epoch 5:\n",
            "Batch 0 : training loss = 0.5889175534248352; training acc = 72.0\n",
            "Batch 20 : training loss = 0.6046207547187805; training acc = 69.5\n",
            "Batch 40 : training loss = 0.6027157306671143; training acc = 68.0\n",
            "Batch 60 : training loss = 0.5939990878105164; training acc = 70.0\n",
            "Batch 80 : training loss = 0.6135405898094177; training acc = 67.0\n",
            "Epoch 5 : Validation loss = 0.5850400714576245; Validation acc = 71.72\n",
            "Epoch 5 : Test loss = 0.5939378128945827; Test acc = 70.256\n"
          ]
        }
      ],
      "source": [
        "train_losses_gv2 = experiment(model = model_without_fine_tuning,\n",
        "                          opt = optim.Adam(model_without_fine_tuning.parameters(), lr=0.0025, betas=(0.9, 0.999)), criterion = criterion)"
      ]
    },
    {
      "cell_type": "code",
      "execution_count": 47,
      "metadata": {
        "id": "CDUQEQUNeQQB",
        "colab": {
          "base_uri": "https://localhost:8080/",
          "height": 319
        },
        "outputId": "6cd1f2a2-5411-4b67-ed35-cb9e888a9310"
      },
      "outputs": [
        {
          "output_type": "stream",
          "name": "stdout",
          "text": [
            "Loss of the PretrainedAveragingModel\n",
            "pre-training with fine-tuning : 0.1899389624595642\n",
            "pretraining without fine-tuning : 0.5985859036445618\n"
          ]
        },
        {
          "output_type": "display_data",
          "data": {
            "text/plain": [
              "<Figure size 432x288 with 1 Axes>"
            ],
            "image/png": "[encoded data removed]"
          },
          "metadata": {
            "needs_background": "light"
          }
        }
      ],
      "source": [
        "print(\"Loss of the PretrainedAveragingModel\")\n",
        "print(\"pre-training with fine-tuning :\",train_losses_gv1[-1])\n",
        "print(\"pretraining without fine-tuning :\",train_losses_gv2[-1])\n",
        "\n",
        "\n",
        "plt.plot(train_losses_gv1, label=\"with fine_tune\")\n",
        "plt.plot(train_losses_gv2, label=\"without fine_tune\")\n",
        "plt.plot(train_losses, label = \"No_pretraining\")\n",
        "plt.legend()\n",
        "plt.show()"
      ]
    },
    {
      "cell_type": "markdown",
      "source": [
        "Globally(I make several experiences without displaying to let the notebook clear) the no_pretrained model and the pretrained_model with fine_tuning are better than the pretrained_model without fine_tuning, and think it's previsible than the pretrained model with fine_tuning is always better than the one that is not fine tune because using glove embeding is pretty similar as transfer learning but considering the fact Glove was not built on IMDB, fine tuning will make it more efficient for our task.\n",
        "\n",
        "> **Analyzing Results:**\n",
        "- when we increase min_freq from 2 to 20, we decrease the vocabularly size from from **38394** to 12720 which is less than the half size of the vocabularly. So the probability of losing important words that are useful for classification is high and this explains the drop in the validation accuracy for all the models. But this drop is not significant and this may be because the 12720 words that remain in the vocabularly are the most important ones.\n",
        "\n",
        "\n"
      ],
      "metadata": {
        "id": "VGkuptMhVRm6"
      }
    },
    {
      "cell_type": "markdown",
      "metadata": {
        "id": "KTl3gbSUMBLw"
      },
      "source": [
        "## 5 - Creating a LSTM model"
      ]
    },
    {
      "cell_type": "code",
      "source": [
        "[torch.randn(1, 3) for _ in range(5)]"
      ],
      "metadata": {
        "colab": {
          "base_uri": "https://localhost:8080/"
        },
        "id": "d8j3TckyYrr4",
        "outputId": "d17ef0f8-449d-4dfd-bade-936a64a8e625"
      },
      "execution_count": 48,
      "outputs": [
        {
          "output_type": "execute_result",
          "data": {
            "text/plain": [
              "[tensor([[ 1.5242,  1.3610, -1.1323]]),\n",
              " tensor([[ 0.0080,  0.7765, -0.2043]]),\n",
              " tensor([[ 0.6191,  1.1818, -0.1639]]),\n",
              " tensor([[ 0.8553,  1.4371, -1.7655]]),\n",
              " tensor([[ 0.6370, -1.0711, -0.4604]])]"
            ]
          },
          "metadata": {},
          "execution_count": 48
        }
      ]
    },
    {
      "cell_type": "code",
      "execution_count": 49,
      "metadata": {
        "id": "8yaj6nLJMDR4",
        "colab": {
          "base_uri": "https://localhost:8080/"
        },
        "outputId": "6531cd25-9043-4516-a167-20c25a76a254"
      },
      "outputs": [
        {
          "output_type": "stream",
          "name": "stdout",
          "text": [
            "tensor([[[-0.0355,  0.2687,  0.0571]],\n",
            "\n",
            "        [[ 0.1454,  0.3323,  0.0146]],\n",
            "\n",
            "        [[ 0.1825,  0.1862,  0.0999]],\n",
            "\n",
            "        [[ 0.1030, -0.0700,  0.1228]],\n",
            "\n",
            "        [[ 0.0211, -0.2637,  0.0123]]], grad_fn=<StackBackward0>)\n",
            "(tensor([[[ 0.0211, -0.2637,  0.0123]]], grad_fn=<StackBackward0>), tensor([[[ 0.0353, -0.6175,  0.0233]]], grad_fn=<StackBackward0>))\n"
          ]
        }
      ],
      "source": [
        "# Create a toy example of LSTM: \n",
        "lstm = nn.LSTM(3, 3)  # Input dim is 3, output dim is 3\n",
        "inputs = [torch.randn(1, 3) for _ in range(5)]  # make a sequence of length 5\n",
        "\n",
        "# LSTMs expect inputs having 3 dimensions:\n",
        "# - The first dimension is the temporal dimension, along which we (in our case) have the different words\n",
        "# - The second dimension is the batch dimension, along which we stack the independant batches\n",
        "# - The third dimension is the feature dimension, along which are the features of the vector representing the words\n",
        "\n",
        "# In our toy case, we have inputs and outputs containing 3 features (third dimension !)\n",
        "# We created a sequence of 5 different inputs (first dimension !)\n",
        "# We don't use batch (the second dimension will have one lement)\n",
        "\n",
        "# We need an initial hidden state, of the right sizes for dimension 2/3, but with only one temporal element:\n",
        "# Here, it is:\n",
        "hidden = (torch.randn(1, 1, 3),\n",
        "          torch.randn(1, 1, 3))\n",
        "# Why do we create a tuple of two tensors ? Because we use LSTMs: remember that they use two sets of weights,\n",
        "# and two hidden states (Hidden state, and Cell state).\n",
        "# If you don't remember, read: https://colah.github.io/posts/2015-08-Understanding-LSTMs/\n",
        "# If we used a classic RNN, we would simply have:\n",
        "# hidden = torch.randn(1, 1, 3)\n",
        "\n",
        "# The naive way of applying a lstm to inputs is to apply it one step at a time, and loop through the sequence\n",
        "for i in inputs:\n",
        "    # After each step, hidden contains the hidden states (remember, it's a tuple of two states).\n",
        "    out, hidden = lstm(i.view(1, 1, -1), hidden)\n",
        "    \n",
        "# Alternatively, we can do the entire sequence all at once.\n",
        "# The first value returned by LSTM is all of the Hidden states throughout the sequence.\n",
        "# The second is just the most recent Hidden state and Cell state (you can compare the values)\n",
        "# The reason for this is that:\n",
        "# \"out\" will give you access to all hidden states in the sequence, for each temporal step\n",
        "# \"hidden\" will allow you to continue the sequence and backpropagate later, with another sequence\n",
        "inputs = torch.cat(inputs).view(len(inputs), 1, -1)\n",
        "hidden = (torch.randn(1, 1, 3), torch.randn(1, 1, 3))  # Re-initialize\n",
        "out, hidden = lstm(inputs, hidden)\n",
        "print(out)\n",
        "print(hidden)"
      ]
    },
    {
      "cell_type": "markdown",
      "metadata": {
        "id": "QxCCoIVwMEoX"
      },
      "source": [
        "We'll implement now a LSTM model, taking the same inputs and also outputing a score for the sentence."
      ]
    },
    {
      "cell_type": "markdown",
      "metadata": {
        "id": "LfOkuwd1eQQB"
      },
      "source": [
        "<div class='alert alert-block alert-info'>\n",
        "            Code:</div>"
      ]
    },
    {
      "cell_type": "code",
      "execution_count": 50,
      "metadata": {
        "id": "7obmINvlMGCB"
      },
      "outputs": [],
      "source": [
        "# Models are usually implemented as custom nn.Module subclass\n",
        "# We need to redefine the __init__ method, which creates the object\n",
        "# We also need to redefine the forward method, which transform the input into outputs\n",
        "\n",
        "class LSTMModel(nn.Module):\n",
        "    def __init__(self, embedding_dim, vocabulary_size, hidden_dim, embeddings=None, fine_tuning=False):\n",
        "      super().__init__()\n",
        "      # To complete  \n",
        "      self.hidden_dim = hidden_dim\n",
        "      self.embeddings = nn.Embedding(vocabulary_size+1, embedding_dim)\n",
        "      self.lstm = nn.LSTM(embedding_dim, hidden_dim,1, batch_first=True)\n",
        "      self.linear = nn.Linear(hidden_dim, 1)\n",
        "\n",
        "           \n",
        "\n",
        "    def forward(self, inputs):\n",
        "        # To complete \n",
        "        h0 = torch.zeros(1, inputs.shape[0], self.hidden_dim)\n",
        "        c0 = torch.zeros(1, inputs.shape[0], self.hidden_dim)\n",
        "        inputs = self.embeddings(inputs)\n",
        "        output, _ = self.lstm(inputs, (h0,c0))\n",
        "        output = output[:,-1,:]\n",
        "        output = torch.squeeze(self.linear(output), 1)\n",
        "        return output"
      ]
    },
    {
      "cell_type": "markdown",
      "metadata": {
        "id": "55yoCnZCMMzh"
      },
      "source": [
        "<div class='alert alert-block alert-warning'>\n",
        "            Questions:</div>\n",
        "            \n",
        "- What do you see with a simple application of LSTM models ? List the possible reasons for that result (these could be linked to the data, the way it is pre-processed, the architecture, and the training procedure). "
      ]
    },
    {
      "cell_type": "code",
      "execution_count": 51,
      "metadata": {
        "id": "IS6apFUyMTdE"
      },
      "outputs": [],
      "source": [
        "LSTM_model = LSTMModel(embedding_dim=300 ,hidden_dim=128, vocabulary_size= len(training_word2idx))\n",
        "opt_lstm = optim.Adam(LSTM_model.parameters(), lr=0.0025, betas=(0.9, 0.999))\n",
        "criterion = nn.BCEWithLogitsLoss()"
      ]
    },
    {
      "cell_type": "code",
      "execution_count": 52,
      "metadata": {
        "id": "NeihrVgpMILu",
        "colab": {
          "base_uri": "https://localhost:8080/"
        },
        "outputId": "3514bff6-b9d1-43f1-db04-01d5befef2c7"
      },
      "outputs": [
        {
          "output_type": "stream",
          "name": "stdout",
          "text": [
            "Beginning training...\n",
            "Epoch 1:\n",
            "Batch 0 : training loss = 0.7064467668533325; training acc = 46.0\n",
            "Batch 20 : training loss = 0.6817142963409424; training acc = 60.0\n",
            "Batch 40 : training loss = 0.7029018998146057; training acc = 47.0\n",
            "Batch 60 : training loss = 0.6785099506378174; training acc = 57.0\n",
            "Batch 80 : training loss = 0.6698110699653625; training acc = 59.0\n",
            "Epoch 1 : Validation loss = 0.6499322056770325; Validation acc = 63.96\n",
            "Epoch 2:\n",
            "Batch 0 : training loss = 0.6435356736183167; training acc = 67.0\n",
            "Batch 20 : training loss = 0.6176046133041382; training acc = 65.0\n",
            "Batch 40 : training loss = 0.6629483103752136; training acc = 60.0\n",
            "Batch 60 : training loss = 0.6287246346473694; training acc = 62.0\n",
            "Batch 80 : training loss = 0.6472188830375671; training acc = 66.0\n",
            "Epoch 2 : Validation loss = 0.6431550785899163; Validation acc = 65.22\n",
            "Epoch 3:\n",
            "Batch 0 : training loss = 0.5760339498519897; training acc = 70.5\n",
            "Batch 20 : training loss = 0.6216691732406616; training acc = 68.0\n",
            "Batch 40 : training loss = 0.5698354840278625; training acc = 71.5\n",
            "Batch 60 : training loss = 0.5794896483421326; training acc = 67.0\n",
            "Batch 80 : training loss = 0.5642054080963135; training acc = 70.5\n",
            "Epoch 3 : Validation loss = 0.572972366064787; Validation acc = 71.7\n",
            "Epoch 4:\n",
            "Batch 0 : training loss = 0.42718780040740967; training acc = 82.5\n",
            "Batch 20 : training loss = 0.4325469136238098; training acc = 81.0\n",
            "Batch 40 : training loss = 0.4847131669521332; training acc = 78.0\n",
            "Batch 60 : training loss = 0.4644644260406494; training acc = 79.0\n",
            "Batch 80 : training loss = 0.46292412281036377; training acc = 77.5\n",
            "Epoch 4 : Validation loss = 0.5641635563224554; Validation acc = 74.32\n",
            "Epoch 5:\n",
            "Batch 0 : training loss = 0.3366837799549103; training acc = 87.0\n",
            "Batch 20 : training loss = 0.3243331015110016; training acc = 88.0\n",
            "Batch 40 : training loss = 0.31240731477737427; training acc = 87.0\n",
            "Batch 60 : training loss = 0.319915235042572; training acc = 87.0\n",
            "Batch 80 : training loss = 0.3070284128189087; training acc = 86.5\n",
            "Epoch 5 : Validation loss = 0.5737850416451693; Validation acc = 75.0\n",
            "Early stopping.\n",
            "Epoch 5 : Test loss = 0.5748465524166823; Test acc = 74.316\n"
          ]
        }
      ],
      "source": [
        "train_losses_lstm = experiment(model = LSTM_model , opt = opt_lstm, criterion = criterion) "
      ]
    },
    {
      "cell_type": "code",
      "source": [
        "plt.plot(train_losses_lstm)"
      ],
      "metadata": {
        "colab": {
          "base_uri": "https://localhost:8080/",
          "height": 283
        },
        "id": "7j8APg65BYyH",
        "outputId": "7ead1c9d-a15d-4ea9-95f0-ba689f8db814"
      },
      "execution_count": 53,
      "outputs": [
        {
          "output_type": "execute_result",
          "data": {
            "text/plain": [
              "[<matplotlib.lines.Line2D at 0x7f86ed202d10>]"
            ]
          },
          "metadata": {},
          "execution_count": 53
        },
        {
          "output_type": "display_data",
          "data": {
            "text/plain": [
              "<Figure size 432x288 with 1 Axes>"
            ],
            "image/png": "[encoded data removed]"
          },
          "metadata": {
            "needs_background": "light"
          }
        }
      ]
    },
    {
      "cell_type": "markdown",
      "source": [
        "> **Answer:** <br>\n",
        "We notice that with the LSTM model we obatin worse performances than the no pre-trained averaging model and the pre-trained fine tuned averaging model. Two possible reasons behind this : \n",
        "- **The data samples are very long texts** so this long term dependancy may leads to forgetting especially the words that are in the beginning of the text and that they are useful to make the classification decision. In this case of data **we need an attention mechanism** in order to feed to LSTM the words that it has to focus on to make its decision.\n",
        "- LSTM may have encountred **exploding gradient problem** since we notice that there is some instability in the loss decrease (loss decreases and then increases). **So we need to clip the gradient** during training to overcome this problem. "
      ],
      "metadata": {
        "id": "SITpykDdXIhZ"
      }
    },
    {
      "cell_type": "code",
      "source": [
        " "
      ],
      "metadata": {
        "id": "1MoNXFKGXDMZ"
      },
      "execution_count": 53,
      "outputs": []
    },
    {
      "cell_type": "markdown",
      "metadata": {
        "id": "RsPQtHgBRiVl"
      },
      "source": [
        "## 6 - Fine-tuning a Bert model\n",
        "\n",
        "Fine-tune the lightest BERT model available on IMDB data and compare it with previous results ! You should simply follow the tutorial and slightly adapt it to our way of obtaining the data:\n",
        "https://huggingface.co/transformers/custom_datasets.html#seq-imdb"
      ]
    },
    {
      "cell_type": "code",
      "source": [
        "!pip install transformers\n",
        "import transformers"
      ],
      "metadata": {
        "colab": {
          "base_uri": "https://localhost:8080/"
        },
        "id": "74A2Pt65NJzj",
        "outputId": "cc26eda7-a336-4e92-df7e-f106334366ac"
      },
      "execution_count": 8,
      "outputs": [
        {
          "output_type": "stream",
          "name": "stdout",
          "text": [
            "Looking in indexes: https://pypi.org/simple, https://us-python.pkg.dev/colab-wheels/public/simple/\n",
            "Requirement already satisfied: transformers in /usr/local/lib/python3.7/dist-packages (4.24.0)\n",
            "Requirement already satisfied: tqdm>=4.27 in /usr/local/lib/python3.7/dist-packages (from transformers) (4.64.1)\n",
            "Requirement already satisfied: huggingface-hub<1.0,>=0.10.0 in /usr/local/lib/python3.7/dist-packages (from transformers) (0.10.1)\n",
            "Requirement already satisfied: tokenizers!=0.11.3,<0.14,>=0.11.1 in /usr/local/lib/python3.7/dist-packages (from transformers) (0.13.1)\n",
            "Requirement already satisfied: filelock in /usr/local/lib/python3.7/dist-packages (from transformers) (3.8.0)\n",
            "Requirement already satisfied: regex!=2019.12.17 in /usr/local/lib/python3.7/dist-packages (from transformers) (2022.6.2)\n",
            "Requirement already satisfied: numpy>=1.17 in /usr/local/lib/python3.7/dist-packages (from transformers) (1.21.6)\n",
            "Requirement already satisfied: packaging>=20.0 in /usr/local/lib/python3.7/dist-packages (from transformers) (21.3)\n",
            "Requirement already satisfied: requests in /usr/local/lib/python3.7/dist-packages (from transformers) (2.23.0)\n",
            "Requirement already satisfied: importlib-metadata in /usr/local/lib/python3.7/dist-packages (from transformers) (4.13.0)\n",
            "Requirement already satisfied: pyyaml>=5.1 in /usr/local/lib/python3.7/dist-packages (from transformers) (6.0)\n",
            "Requirement already satisfied: typing-extensions>=3.7.4.3 in /usr/local/lib/python3.7/dist-packages (from huggingface-hub<1.0,>=0.10.0->transformers) (4.1.1)\n",
            "Requirement already satisfied: pyparsing!=3.0.5,>=2.0.2 in /usr/local/lib/python3.7/dist-packages (from packaging>=20.0->transformers) (3.0.9)\n",
            "Requirement already satisfied: zipp>=0.5 in /usr/local/lib/python3.7/dist-packages (from importlib-metadata->transformers) (3.10.0)\n",
            "Requirement already satisfied: certifi>=2017.4.17 in /usr/local/lib/python3.7/dist-packages (from requests->transformers) (2022.9.24)\n",
            "Requirement already satisfied: urllib3!=1.25.0,!=1.25.1,<1.26,>=1.21.1 in /usr/local/lib/python3.7/dist-packages (from requests->transformers) (1.24.3)\n",
            "Requirement already satisfied: idna<3,>=2.5 in /usr/local/lib/python3.7/dist-packages (from requests->transformers) (2.10)\n",
            "Requirement already satisfied: chardet<4,>=3.0.2 in /usr/local/lib/python3.7/dist-packages (from requests->transformers) (3.0.4)\n"
          ]
        }
      ]
    },
    {
      "cell_type": "code",
      "source": [
        "# We will use the DistilBert tokenizer\n",
        "from transformers import DistilBertTokenizerFast\n",
        "tokenizer = DistilBertTokenizerFast.from_pretrained('distilbert-base-uncased')"
      ],
      "metadata": {
        "id": "r7tCPZl8NJqg"
      },
      "execution_count": 9,
      "outputs": []
    },
    {
      "cell_type": "code",
      "source": [
        "# Passing data to the tokenizer using truncation=True and padding=True so that sequences are truncated in order to have as a limit the model's maximum input length\n",
        "# and are padded to the same length. \n",
        "train_encodings = tokenizer(train_texts, truncation=True, padding=True)\n",
        "val_encodings = tokenizer(val_texts, truncation=True, padding=True)\n",
        "test_encodings = tokenizer(test_texts, truncation=True, padding=True)"
      ],
      "metadata": {
        "id": "1af7vTDSNJnI"
      },
      "execution_count": 10,
      "outputs": []
    },
    {
      "cell_type": "code",
      "source": [
        "# Turning our labels and encodings into a Dataset object\n",
        "class IMDbDataset(torch.utils.data.Dataset):\n",
        "    def __init__(self, encodings, labels):\n",
        "        self.encodings = encodings\n",
        "        self.labels = labels\n",
        "\n",
        "    def __getitem__(self, idx):\n",
        "        item = {key: torch.tensor(val[idx]) for key, val in self.encodings.items()}\n",
        "        item['labels'] = torch.tensor(self.labels[idx])\n",
        "        return item\n",
        "\n",
        "    def __len__(self):\n",
        "        return len(self.labels)"
      ],
      "metadata": {
        "id": "VWvU5JlpNJlA"
      },
      "execution_count": 11,
      "outputs": []
    },
    {
      "cell_type": "code",
      "source": [
        "train_dataset = IMDbDataset(train_encodings, train_labels)\n",
        "val_dataset = IMDbDataset(val_encodings, val_labels)\n",
        "test_dataset = IMDbDataset(test_encodings, test_labels)"
      ],
      "metadata": {
        "id": "H_Bkx7l8NJij"
      },
      "execution_count": 12,
      "outputs": []
    },
    {
      "cell_type": "code",
      "source": [
        "# Fine-tunning \n",
        "from transformers import DistilBertForSequenceClassification, AdamW\n",
        "device = torch.device('cuda') if torch.cuda.is_available() else torch.device('cpu')\n",
        "model = DistilBertForSequenceClassification.from_pretrained('distilbert-base-uncased')\n",
        "model.to(device)\n",
        "\n",
        "train_loader = DataLoader(train_dataset, batch_size=16, shuffle=True)\n",
        "valid_loader = DataLoader(val_dataset, batch_size=120, shuffle=True)\n",
        "test_loader = DataLoader(test_dataset, batch_size=120, shuffle=True)\n",
        "opt = AdamW(model.parameters(), lr=5e-5,no_deprecation_warning=True)"
      ],
      "metadata": {
        "colab": {
          "base_uri": "https://localhost:8080/"
        },
        "id": "EBPbPk8aNJgK",
        "outputId": "b5bbdd72-fd8c-4739-aeed-d789833e4cb1"
      },
      "execution_count": 15,
      "outputs": [
        {
          "output_type": "stream",
          "name": "stderr",
          "text": [
            "Some weights of the model checkpoint at distilbert-base-uncased were not used when initializing DistilBertForSequenceClassification: ['vocab_projector.bias', 'vocab_layer_norm.weight', 'vocab_projector.weight', 'vocab_transform.weight', 'vocab_transform.bias', 'vocab_layer_norm.bias']\n",
            "- This IS expected if you are initializing DistilBertForSequenceClassification from the checkpoint of a model trained on another task or with another architecture (e.g. initializing a BertForSequenceClassification model from a BertForPreTraining model).\n",
            "- This IS NOT expected if you are initializing DistilBertForSequenceClassification from the checkpoint of a model that you expect to be exactly identical (initializing a BertForSequenceClassification model from a BertForSequenceClassification model).\n",
            "Some weights of DistilBertForSequenceClassification were not initialized from the model checkpoint at distilbert-base-uncased and are newly initialized: ['classifier.weight', 'pre_classifier.weight', 'classifier.bias', 'pre_classifier.bias']\n",
            "You should probably TRAIN this model on a down-stream task to be able to use it for predictions and inference.\n"
          ]
        }
      ]
    },
    {
      "cell_type": "code",
      "source": [
        "def train_epoch_bert(model, opt,dataloader):\n",
        "    model.train()\n",
        "    losses = []\n",
        "    for i,batch in enumerate(train_loader):\n",
        "        opt.zero_grad()\n",
        "        input_ids = batch['input_ids'].to(device)\n",
        "        attention_mask = batch['attention_mask'].to(device)\n",
        "        labels = batch['labels'].to(device)\n",
        "        outputs = model(input_ids, attention_mask=attention_mask, labels=labels)\n",
        "        loss = outputs[0]\n",
        "        loss.backward()\n",
        "        opt.step()\n",
        "        num_corrects = torch.sum(torch.argmax(outputs[1],axis=1)==labels)\n",
        "        acc = 100.0 * num_corrects/len(labels)\n",
        "        \n",
        "        if (i%250 == 0):\n",
        "            print(\"Batch \" + str(i) + \" : training loss = \" + str(loss.item()) + \"; training acc = \" + str(acc.item()))\n",
        "    return losses"
      ],
      "metadata": {
        "id": "baqA8btsNJdp"
      },
      "execution_count": 16,
      "outputs": []
    },
    {
      "cell_type": "code",
      "source": [
        "def eval_model_bert(model, evalloader):\n",
        "    model.eval()\n",
        "    total_epoch_loss = 0\n",
        "    total_epoch_acc = 0\n",
        "    with torch.no_grad():\n",
        "        for i, batch in enumerate(evalloader):\n",
        "          input_ids = batch['input_ids'].to(device)\n",
        "          attention_mask = batch['attention_mask'].to(device)\n",
        "          labels = batch['labels'].to(device)\n",
        "          outputs = model(input_ids, attention_mask=attention_mask, labels=labels)\n",
        "          loss = outputs[0]\n",
        "          num_corrects = torch.sum(torch.argmax(outputs[1],axis=1)==labels)\n",
        "          acc = 100.0 * num_corrects/len(labels)\n",
        "          total_epoch_loss += loss\n",
        "          total_epoch_acc += acc.item()\n",
        "\n",
        "    return total_epoch_loss/(i+1), total_epoch_acc/(i+1)"
      ],
      "metadata": {
        "id": "9tsC9FUUNJaz"
      },
      "execution_count": 17,
      "outputs": []
    },
    {
      "cell_type": "code",
      "source": [
        "def experiment_bert(model, opt, num_epochs = 1, early_stopping = True):\n",
        "    train_losses = []\n",
        "    if early_stopping: \n",
        "        best_valid_loss = 10. \n",
        "    print(\"Beginning training...\")\n",
        "    for e in range(num_epochs):\n",
        "        print(\"Epoch \" + str(e+1) + \":\")\n",
        "        train_losses += train_epoch_bert(model, opt,train_loader)\n",
        "        valid_loss, valid_acc = eval_model_bert(model,valid_loader)\n",
        "        print(\"Epoch \" + str(e+1) + \" : Validation loss = \" + str(valid_loss) + \"; Validation acc = \" + str(valid_acc))\n",
        "        if early_stopping:\n",
        "            if valid_loss < best_valid_loss:\n",
        "                best_valid_loss = valid_loss\n",
        "            else:\n",
        "                print(\"Early stopping.\")\n",
        "                break  \n",
        "    test_loss, test_acc = eval_model_bert(model,test_loader)\n",
        "    print(\"Epoch \" + str(e+1) + \" : Test loss = \" + str(test_loss) + \"; Test acc = \" + str(test_acc))\n",
        "    return train_losses"
      ],
      "metadata": {
        "id": "-JqXFSgTNJX3"
      },
      "execution_count": 18,
      "outputs": []
    },
    {
      "cell_type": "code",
      "source": [
        "train_losses_bert = experiment_bert(model,opt)"
      ],
      "metadata": {
        "colab": {
          "base_uri": "https://localhost:8080/"
        },
        "id": "0HueqEg1NJQn",
        "outputId": "09084389-b924-445a-a074-5a33a079df40"
      },
      "execution_count": null,
      "outputs": [
        {
          "output_type": "stream",
          "name": "stdout",
          "text": [
            "Beginning training...\n",
            "Epoch 1:\n",
            "Batch 0 : training loss = 0.6985633969306946; training acc = 43.75\n"
          ]
        }
      ]
    },
    {
      "cell_type": "markdown",
      "source": [
        ">**comments:**<br>\n",
        "We notice that BERT model gives the best performances compared to those of the previous models since we obtain a validation accuracy of 98.67 and a test accuracy of 92.444. In fact, this model doesn't present the problems encountred in the LSTM model since it capture the important words for classification although the fact that the data samples are very long texts and it also doesn't present an exploding gradient problem. "
      ],
      "metadata": {
        "id": "9OxnW3aGap0Z"
      }
    },
    {
      "cell_type": "code",
      "source": [],
      "metadata": {
        "id": "Ci0IGQWYNJE1"
      },
      "execution_count": null,
      "outputs": []
    }
  ],
  "metadata": {
    "accelerator": "GPU",
    "colab": {
      "collapsed_sections": [],
      "provenance": []
    },
    "kernelspec": {
      "display_name": "Python 3",
      "language": "python",
      "name": "python3"
    },
    "language_info": {
      "codemirror_mode": {
        "name": "ipython",
        "version": 3
      },
      "file_extension": ".py",
      "mimetype": "text/x-python",
      "name": "python",
      "nbconvert_exporter": "python",
      "pygments_lexer": "ipython3",
      "version": "3.7.10"
    }
  },
  "nbformat": 4,
  "nbformat_minor": 0
}